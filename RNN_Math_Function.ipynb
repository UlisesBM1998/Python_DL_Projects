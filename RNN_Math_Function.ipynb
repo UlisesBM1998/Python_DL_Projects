{
 "cells": [
  {
   "cell_type": "markdown",
   "id": "1f4c99f9",
   "metadata": {},
   "source": [
    "# INTRODUCTION"
   ]
  },
  {
   "cell_type": "markdown",
   "id": "3e5f672e",
   "metadata": {},
   "source": [
    "With Recurrent Neural Networks, which is better for forecasting series of values. We are going to find out if we can predict a simple math function."
   ]
  },
  {
   "cell_type": "markdown",
   "id": "32f9cc8d",
   "metadata": {},
   "source": [
    "# LIBRARIES AND CREATION OF THE DATASET"
   ]
  },
  {
   "cell_type": "code",
   "execution_count": 1,
   "id": "dc69dfda",
   "metadata": {},
   "outputs": [],
   "source": [
    "import pandas as pd\n",
    "import numpy as np\n",
    "import matplotlib.pyplot as plt\n",
    "%matplotlib inline"
   ]
  },
  {
   "cell_type": "code",
   "execution_count": 2,
   "id": "4de0dca7",
   "metadata": {},
   "outputs": [],
   "source": [
    "x = np.linspace(0,50,501)\n",
    "y = np.sin(x)"
   ]
  },
  {
   "cell_type": "code",
   "execution_count": 3,
   "id": "28e59691",
   "metadata": {},
   "outputs": [
    {
     "data": {
      "text/plain": [
       "[<matplotlib.lines.Line2D at 0x1b664680790>]"
      ]
     },
     "execution_count": 3,
     "metadata": {},
     "output_type": "execute_result"
    },
    {
     "data": {
      "image/png": "[encoded data removed]",
      "text/plain": [
       "<Figure size 432x288 with 1 Axes>"
      ]
     },
     "metadata": {
      "needs_background": "light"
     },
     "output_type": "display_data"
    }
   ],
   "source": [
    "plt.plot(x,y)"
   ]
  },
  {
   "cell_type": "markdown",
   "id": "3f19d9ef",
   "metadata": {},
   "source": [
    "Creation of the Data Frame"
   ]
  },
  {
   "cell_type": "code",
   "execution_count": 4,
   "id": "a9819d77",
   "metadata": {},
   "outputs": [
    {
     "data": {
      "text/html": [
       "<div>\n",
       "<style scoped>\n",
       "    .dataframe tbody tr th:only-of-type {\n",
       "        vertical-align: middle;\n",
       "    }\n",
       "\n",
       "    .dataframe tbody tr th {\n",
       "        vertical-align: top;\n",
       "    }\n",
       "\n",
       "    .dataframe thead th {\n",
       "        text-align: right;\n",
       "    }\n",
       "</style>\n",
       "<table border=\"1\" class=\"dataframe\">\n",
       "  <thead>\n",
       "    <tr style=\"text-align: right;\">\n",
       "      <th></th>\n",
       "      <th>Sine</th>\n",
       "    </tr>\n",
       "  </thead>\n",
       "  <tbody>\n",
       "    <tr>\n",
       "      <th>0.0</th>\n",
       "      <td>0.000000</td>\n",
       "    </tr>\n",
       "    <tr>\n",
       "      <th>0.1</th>\n",
       "      <td>0.099833</td>\n",
       "    </tr>\n",
       "    <tr>\n",
       "      <th>0.2</th>\n",
       "      <td>0.198669</td>\n",
       "    </tr>\n",
       "    <tr>\n",
       "      <th>0.3</th>\n",
       "      <td>0.295520</td>\n",
       "    </tr>\n",
       "    <tr>\n",
       "      <th>0.4</th>\n",
       "      <td>0.389418</td>\n",
       "    </tr>\n",
       "  </tbody>\n",
       "</table>\n",
       "</div>"
      ],
      "text/plain": [
       "         Sine\n",
       "0.0  0.000000\n",
       "0.1  0.099833\n",
       "0.2  0.198669\n",
       "0.3  0.295520\n",
       "0.4  0.389418"
      ]
     },
     "execution_count": 4,
     "metadata": {},
     "output_type": "execute_result"
    }
   ],
   "source": [
    "df = pd.DataFrame(data = y, index = x, columns = [\"Sine\"])\n",
    "df.head()"
   ]
  },
  {
   "cell_type": "markdown",
   "id": "09c93ce3",
   "metadata": {},
   "source": [
    "Next, let's separate the dataset into the test and the training datasets"
   ]
  },
  {
   "cell_type": "code",
   "execution_count": 5,
   "id": "a0cf02e4",
   "metadata": {},
   "outputs": [
    {
     "data": {
      "text/plain": [
       "501"
      ]
     },
     "execution_count": 5,
     "metadata": {},
     "output_type": "execute_result"
    }
   ],
   "source": [
    "len(df)"
   ]
  },
  {
   "cell_type": "code",
   "execution_count": 6,
   "id": "332dc3c1",
   "metadata": {},
   "outputs": [],
   "source": [
    "test_percent = 0.1"
   ]
  },
  {
   "cell_type": "code",
   "execution_count": 7,
   "id": "868ad0a6",
   "metadata": {},
   "outputs": [
    {
     "data": {
      "text/plain": [
       "50.1"
      ]
     },
     "execution_count": 7,
     "metadata": {},
     "output_type": "execute_result"
    }
   ],
   "source": [
    "len(df)*test_percent"
   ]
  },
  {
   "cell_type": "code",
   "execution_count": 8,
   "id": "aa3d3e3c",
   "metadata": {},
   "outputs": [
    {
     "data": {
      "text/plain": [
       "50.0"
      ]
     },
     "execution_count": 8,
     "metadata": {},
     "output_type": "execute_result"
    }
   ],
   "source": [
    "test_point = np.round(len(df)*test_percent)\n",
    "test_point"
   ]
  },
  {
   "cell_type": "code",
   "execution_count": 9,
   "id": "1cadb19a",
   "metadata": {},
   "outputs": [
    {
     "data": {
      "text/plain": [
       "451"
      ]
     },
     "execution_count": 9,
     "metadata": {},
     "output_type": "execute_result"
    }
   ],
   "source": [
    "test_ind = int(len(df)-test_point)\n",
    "test_ind"
   ]
  },
  {
   "cell_type": "code",
   "execution_count": 10,
   "id": "ecea23b2",
   "metadata": {},
   "outputs": [],
   "source": [
    "train = df.iloc[:test_ind]\n",
    "test = df.iloc[test_ind:]"
   ]
  },
  {
   "cell_type": "code",
   "execution_count": 11,
   "id": "15dfc299",
   "metadata": {},
   "outputs": [
    {
     "name": "stdout",
     "output_type": "stream",
     "text": [
      "451\n",
      "50\n"
     ]
    }
   ],
   "source": [
    "print(len(train))\n",
    "print(len(test))"
   ]
  },
  {
   "cell_type": "markdown",
   "id": "ed41f2f3",
   "metadata": {},
   "source": [
    "# PRE PROCESSING"
   ]
  },
  {
   "cell_type": "markdown",
   "id": "b22a4ef7",
   "metadata": {},
   "source": [
    "We are going to convert those values into a lower numbers but keeping the same distance between them."
   ]
  },
  {
   "cell_type": "code",
   "execution_count": 12,
   "id": "c412fb37",
   "metadata": {},
   "outputs": [],
   "source": [
    "from sklearn.preprocessing import MinMaxScaler"
   ]
  },
  {
   "cell_type": "code",
   "execution_count": 13,
   "id": "4c51d52a",
   "metadata": {},
   "outputs": [],
   "source": [
    "scaler = MinMaxScaler()"
   ]
  },
  {
   "cell_type": "code",
   "execution_count": 14,
   "id": "b1b1a011",
   "metadata": {},
   "outputs": [
    {
     "data": {
      "text/plain": [
       "MinMaxScaler()"
      ]
     },
     "execution_count": 14,
     "metadata": {},
     "output_type": "execute_result"
    }
   ],
   "source": [
    "scaler.fit(train)"
   ]
  },
  {
   "cell_type": "code",
   "execution_count": 15,
   "id": "321e6962",
   "metadata": {},
   "outputs": [],
   "source": [
    "scaled_train = scaler.transform(train)"
   ]
  },
  {
   "cell_type": "code",
   "execution_count": 16,
   "id": "3085b3e4",
   "metadata": {},
   "outputs": [],
   "source": [
    "scaled_test = scaler.transform(test)"
   ]
  },
  {
   "cell_type": "markdown",
   "id": "c994bc57",
   "metadata": {},
   "source": [
    "# CREATING THE MODEL"
   ]
  },
  {
   "cell_type": "code",
   "execution_count": 17,
   "id": "304e0af9",
   "metadata": {},
   "outputs": [],
   "source": [
    "from tensorflow.keras.preprocessing.sequence import TimeseriesGenerator"
   ]
  },
  {
   "cell_type": "code",
   "execution_count": 18,
   "id": "7ccd08c6",
   "metadata": {},
   "outputs": [],
   "source": [
    "length = 2\n",
    "batch_size = 1\n",
    "\n",
    "generator = TimeseriesGenerator(scaled_train, scaled_train, length = length, \n",
    "                                batch_size = batch_size)"
   ]
  },
  {
   "cell_type": "code",
   "execution_count": 19,
   "id": "fc602873",
   "metadata": {},
   "outputs": [
    {
     "name": "stdout",
     "output_type": "stream",
     "text": [
      "451\n",
      "449\n"
     ]
    }
   ],
   "source": [
    "print(len(scaled_train))\n",
    "print(len(generator))"
   ]
  },
  {
   "cell_type": "markdown",
   "id": "d3b0e8c7",
   "metadata": {},
   "source": [
    "A little DL model that can predict the next number."
   ]
  },
  {
   "cell_type": "code",
   "execution_count": 20,
   "id": "9eda332a",
   "metadata": {},
   "outputs": [],
   "source": [
    "X,y = generator[0]"
   ]
  },
  {
   "cell_type": "code",
   "execution_count": 21,
   "id": "b406a308",
   "metadata": {},
   "outputs": [
    {
     "name": "stdout",
     "output_type": "stream",
     "text": [
      "According to this array:  [[[0.49999912]\n",
      "  [0.54991622]]]\n",
      "*********\n",
      "The next possible number is:  [[0.59933458]]\n"
     ]
    }
   ],
   "source": [
    "print(\"According to this array: \", X)\n",
    "print(\"*********\")\n",
    "print(\"The next possible number is: \",y)"
   ]
  },
  {
   "cell_type": "code",
   "execution_count": 22,
   "id": "f68d22ab",
   "metadata": {},
   "outputs": [],
   "source": [
    "length = 50\n",
    "batch_size = 1\n",
    "\n",
    "generator = TimeseriesGenerator(scaled_train, scaled_train, length = length, \n",
    "                                batch_size = batch_size)"
   ]
  },
  {
   "cell_type": "markdown",
   "id": "a5244c16",
   "metadata": {},
   "source": [
    "# FEATURES OF THE MODEL"
   ]
  },
  {
   "cell_type": "markdown",
   "id": "8b74f188",
   "metadata": {},
   "source": [
    "For this one, we will use just one hidden layer with a compile which optimizer is going to be Adam on the loss metrics will be use MSE.\n",
    "\n",
    "The hidden layer is a SimpleRNN layer which is a type of recurrent neural network that has a simple architecture and is used for sequence prediction tasks, such as natural language processing and time series analysis."
   ]
  },
  {
   "cell_type": "code",
   "execution_count": 23,
   "id": "223d72b0",
   "metadata": {},
   "outputs": [],
   "source": [
    "from tensorflow.keras.models import Sequential\n",
    "from tensorflow.keras.layers import Dense, SimpleRNN, LSTM"
   ]
  },
  {
   "cell_type": "code",
   "execution_count": 24,
   "id": "62a61dfe",
   "metadata": {},
   "outputs": [],
   "source": [
    "n_features = 1"
   ]
  },
  {
   "cell_type": "code",
   "execution_count": 25,
   "id": "adcd167a",
   "metadata": {},
   "outputs": [],
   "source": [
    "model = Sequential()\n",
    "\n",
    "model.add(SimpleRNN(50, input_shape = (length, n_features)))\n",
    "\n",
    "model.add(Dense(1))\n",
    "\n",
    "model.compile(optimizer = \"adam\", loss = \"mse\")"
   ]
  },
  {
   "cell_type": "code",
   "execution_count": 26,
   "id": "4b853f6d",
   "metadata": {},
   "outputs": [
    {
     "name": "stdout",
     "output_type": "stream",
     "text": [
      "Model: \"sequential\"\n",
      "_________________________________________________________________\n",
      " Layer (type)                Output Shape              Param #   \n",
      "=================================================================\n",
      " simple_rnn (SimpleRNN)      (None, 50)                2600      \n",
      "                                                                 \n",
      " dense (Dense)               (None, 1)                 51        \n",
      "                                                                 \n",
      "=================================================================\n",
      "Total params: 2,651\n",
      "Trainable params: 2,651\n",
      "Non-trainable params: 0\n",
      "_________________________________________________________________\n"
     ]
    }
   ],
   "source": [
    "model.summary()"
   ]
  },
  {
   "cell_type": "markdown",
   "id": "35db22b3",
   "metadata": {},
   "source": [
    "# TRAINING THE MODEL"
   ]
  },
  {
   "cell_type": "code",
   "execution_count": 27,
   "id": "d5b65dc2",
   "metadata": {},
   "outputs": [
    {
     "name": "stdout",
     "output_type": "stream",
     "text": [
      "Epoch 1/5\n"
     ]
    },
    {
     "name": "stderr",
     "output_type": "stream",
     "text": [
      "C:\\Users\\ulise\\AppData\\Local\\Temp/ipykernel_33232/2500511877.py:1: UserWarning: `Model.fit_generator` is deprecated and will be removed in a future version. Please use `Model.fit`, which supports generators.\n",
      "  model.fit_generator(generator, epochs =5)\n"
     ]
    },
    {
     "name": "stdout",
     "output_type": "stream",
     "text": [
      "401/401 [==============================] - 5s 8ms/step - loss: 0.0098\n",
      "Epoch 2/5\n",
      "401/401 [==============================] - 3s 8ms/step - loss: 9.6040e-05\n",
      "Epoch 3/5\n",
      "401/401 [==============================] - 3s 8ms/step - loss: 2.5953e-04\n",
      "Epoch 4/5\n",
      "401/401 [==============================] - 3s 8ms/step - loss: 1.6382e-04\n",
      "Epoch 5/5\n",
      "401/401 [==============================] - 3s 8ms/step - loss: 6.1888e-05\n"
     ]
    },
    {
     "data": {
      "text/plain": [
       "<keras.callbacks.History at 0x1b670a513d0>"
      ]
     },
     "execution_count": 27,
     "metadata": {},
     "output_type": "execute_result"
    }
   ],
   "source": [
    "model.fit_generator(generator, epochs =5)"
   ]
  },
  {
   "cell_type": "markdown",
   "id": "e579b5da",
   "metadata": {},
   "source": [
    "# PLOT OF THE RESULT EVOLUTION"
   ]
  },
  {
   "cell_type": "code",
   "execution_count": 28,
   "id": "a2761215",
   "metadata": {},
   "outputs": [],
   "source": [
    "losses = pd.DataFrame(model.history.history)"
   ]
  },
  {
   "cell_type": "code",
   "execution_count": 29,
   "id": "c6aea02c",
   "metadata": {},
   "outputs": [
    {
     "data": {
      "text/plain": [
       "<AxesSubplot:>"
      ]
     },
     "execution_count": 29,
     "metadata": {},
     "output_type": "execute_result"
    },
    {
     "data": {
      "image/png": "[encoded data removed]",
      "text/plain": [
       "<Figure size 432x288 with 1 Axes>"
      ]
     },
     "metadata": {
      "needs_background": "light"
     },
     "output_type": "display_data"
    }
   ],
   "source": [
    "losses.plot()"
   ]
  },
  {
   "cell_type": "markdown",
   "id": "9d597d53",
   "metadata": {},
   "source": [
    "# TAKING A SAMPLE AND MAKING PREDICTIONS"
   ]
  },
  {
   "cell_type": "code",
   "execution_count": 30,
   "id": "ab6ff4dd",
   "metadata": {},
   "outputs": [
    {
     "data": {
      "text/plain": [
       "array([[8.37405820e-01],\n",
       "       [7.98881698e-01],\n",
       "       [7.57371240e-01],\n",
       "       [7.13289205e-01],\n",
       "       [6.67076045e-01],\n",
       "       [6.19193508e-01],\n",
       "       [5.70120021e-01],\n",
       "       [5.20345908e-01],\n",
       "       [4.70368497e-01],\n",
       "       [4.20687145e-01],\n",
       "       [3.71798252e-01],\n",
       "       [3.24190300e-01],\n",
       "       [2.78338972e-01],\n",
       "       [2.34702398e-01],\n",
       "       [1.93716581e-01],\n",
       "       [1.55791039e-01],\n",
       "       [1.21304709e-01],\n",
       "       [9.06021693e-02],\n",
       "       [6.39901882e-02],\n",
       "       [4.17346643e-02],\n",
       "       [2.40579672e-02],\n",
       "       [1.11367167e-02],\n",
       "       [3.10001778e-03],\n",
       "       [2.81703720e-05],\n",
       "       [1.95186738e-03],\n",
       "       [8.85188786e-03],\n",
       "       [2.06592891e-02],\n",
       "       [3.72560954e-02],\n",
       "       [5.84764771e-02],\n",
       "       [8.41084070e-02],\n",
       "       [1.13895779e-01],\n",
       "       [1.47540969e-01],\n",
       "       [1.84707803e-01],\n",
       "       [2.25024924e-01],\n",
       "       [2.68089497e-01],\n",
       "       [3.13471233e-01],\n",
       "       [3.60716695e-01],\n",
       "       [4.09353821e-01],\n",
       "       [4.58896644e-01],\n",
       "       [5.08850150e-01],\n",
       "       [5.58715219e-01],\n",
       "       [6.07993616e-01],\n",
       "       [6.56192968e-01],\n",
       "       [7.02831682e-01],\n",
       "       [7.47443761e-01],\n",
       "       [7.89583454e-01],\n",
       "       [8.28829716e-01],\n",
       "       [8.64790412e-01],\n",
       "       [8.97106234e-01],\n",
       "       [9.25454293e-01]])"
      ]
     },
     "execution_count": 30,
     "metadata": {},
     "output_type": "execute_result"
    }
   ],
   "source": [
    "first_eval_batch = scaled_train[-length:]\n",
    "first_eval_batch"
   ]
  },
  {
   "cell_type": "code",
   "execution_count": 31,
   "id": "7db26d8d",
   "metadata": {},
   "outputs": [],
   "source": [
    "first_eval_batch = first_eval_batch.reshape((1, length, n_features))"
   ]
  },
  {
   "cell_type": "markdown",
   "id": "041b8d51",
   "metadata": {},
   "source": [
    "The prediction is pretty close."
   ]
  },
  {
   "cell_type": "code",
   "execution_count": 32,
   "id": "ef96ebad",
   "metadata": {},
   "outputs": [
    {
     "name": "stdout",
     "output_type": "stream",
     "text": [
      "1/1 [==============================] - 0s 235ms/step\n"
     ]
    },
    {
     "data": {
      "text/plain": [
       "array([[0.9458993]], dtype=float32)"
      ]
     },
     "execution_count": 32,
     "metadata": {},
     "output_type": "execute_result"
    }
   ],
   "source": [
    "model.predict(first_eval_batch)"
   ]
  },
  {
   "cell_type": "code",
   "execution_count": 33,
   "id": "04664953",
   "metadata": {},
   "outputs": [
    {
     "data": {
      "text/plain": [
       "array([0.94955134])"
      ]
     },
     "execution_count": 33,
     "metadata": {},
     "output_type": "execute_result"
    }
   ],
   "source": [
    "scaled_test[0]"
   ]
  },
  {
   "cell_type": "markdown",
   "id": "fe1a822d",
   "metadata": {},
   "source": [
    "Now we are going to do the same but with the whole test dataset."
   ]
  },
  {
   "cell_type": "code",
   "execution_count": 34,
   "id": "30e6cdb1",
   "metadata": {},
   "outputs": [
    {
     "name": "stdout",
     "output_type": "stream",
     "text": [
      "1/1 [==============================] - 0s 27ms/step\n",
      "1/1 [==============================] - 0s 28ms/step\n",
      "1/1 [==============================] - 0s 26ms/step\n",
      "1/1 [==============================] - 0s 28ms/step\n",
      "1/1 [==============================] - 0s 29ms/step\n",
      "1/1 [==============================] - 0s 28ms/step\n",
      "1/1 [==============================] - 0s 31ms/step\n",
      "1/1 [==============================] - 0s 29ms/step\n",
      "1/1 [==============================] - 0s 25ms/step\n",
      "1/1 [==============================] - 0s 27ms/step\n",
      "1/1 [==============================] - 0s 28ms/step\n",
      "1/1 [==============================] - 0s 29ms/step\n",
      "1/1 [==============================] - 0s 23ms/step\n",
      "1/1 [==============================] - 0s 28ms/step\n",
      "1/1 [==============================] - 0s 26ms/step\n",
      "1/1 [==============================] - 0s 27ms/step\n",
      "1/1 [==============================] - 0s 26ms/step\n",
      "1/1 [==============================] - 0s 28ms/step\n",
      "1/1 [==============================] - 0s 26ms/step\n",
      "1/1 [==============================] - 0s 26ms/step\n",
      "1/1 [==============================] - 0s 28ms/step\n",
      "1/1 [==============================] - 0s 28ms/step\n",
      "1/1 [==============================] - 0s 26ms/step\n",
      "1/1 [==============================] - 0s 30ms/step\n",
      "1/1 [==============================] - 0s 26ms/step\n",
      "1/1 [==============================] - 0s 29ms/step\n",
      "1/1 [==============================] - 0s 28ms/step\n",
      "1/1 [==============================] - 0s 31ms/step\n",
      "1/1 [==============================] - 0s 25ms/step\n",
      "1/1 [==============================] - 0s 31ms/step\n",
      "1/1 [==============================] - 0s 26ms/step\n",
      "1/1 [==============================] - 0s 25ms/step\n",
      "1/1 [==============================] - 0s 29ms/step\n",
      "1/1 [==============================] - 0s 29ms/step\n",
      "1/1 [==============================] - 0s 33ms/step\n",
      "1/1 [==============================] - 0s 28ms/step\n",
      "1/1 [==============================] - 0s 29ms/step\n",
      "1/1 [==============================] - 0s 31ms/step\n",
      "1/1 [==============================] - 0s 27ms/step\n",
      "1/1 [==============================] - 0s 25ms/step\n",
      "1/1 [==============================] - 0s 25ms/step\n",
      "1/1 [==============================] - 0s 28ms/step\n",
      "1/1 [==============================] - 0s 34ms/step\n",
      "1/1 [==============================] - 0s 39ms/step\n",
      "1/1 [==============================] - 0s 22ms/step\n",
      "1/1 [==============================] - 0s 22ms/step\n",
      "1/1 [==============================] - 0s 21ms/step\n",
      "1/1 [==============================] - 0s 20ms/step\n",
      "1/1 [==============================] - 0s 22ms/step\n",
      "1/1 [==============================] - 0s 22ms/step\n"
     ]
    }
   ],
   "source": [
    "test_pre = []\n",
    "\n",
    "first_eval_batch = scaled_train[-length:]\n",
    "current_batch = first_eval_batch.reshape((1, length, n_features))\n",
    "\n",
    "for i in range(len(test)):\n",
    "    current_pred = model.predict(current_batch)[0]\n",
    "    test_pre.append(current_pred)\n",
    "    current_batch = np.append(current_batch[:,1:,:], [[current_pred]], axis = 1)\n"
   ]
  },
  {
   "cell_type": "code",
   "execution_count": 35,
   "id": "da3aa05e",
   "metadata": {},
   "outputs": [
    {
     "data": {
      "text/plain": [
       "[array([0.9458993], dtype=float32),\n",
       " array([0.9647481], dtype=float32),\n",
       " array([0.9787675], dtype=float32),\n",
       " array([0.98876643], dtype=float32),\n",
       " array([0.9934811], dtype=float32),\n",
       " array([0.9917274], dtype=float32),\n",
       " array([0.98546964], dtype=float32),\n",
       " array([0.9742142], dtype=float32),\n",
       " array([0.9590019], dtype=float32),\n",
       " array([0.9394459], dtype=float32),\n",
       " array([0.9136837], dtype=float32),\n",
       " array([0.882974], dtype=float32),\n",
       " array([0.8473337], dtype=float32),\n",
       " array([0.80895066], dtype=float32),\n",
       " array([0.76839834], dtype=float32),\n",
       " array([0.72455436], dtype=float32),\n",
       " array([0.678394], dtype=float32),\n",
       " array([0.62893414], dtype=float32),\n",
       " array([0.57867545], dtype=float32),\n",
       " array([0.52810585], dtype=float32),\n",
       " array([0.47680044], dtype=float32),\n",
       " array([0.42565733], dtype=float32),\n",
       " array([0.37340033], dtype=float32),\n",
       " array([0.32172248], dtype=float32),\n",
       " array([0.27178043], dtype=float32),\n",
       " array([0.22392271], dtype=float32),\n",
       " array([0.17982213], dtype=float32),\n",
       " array([0.13746984], dtype=float32),\n",
       " array([0.09867312], dtype=float32),\n",
       " array([0.06371091], dtype=float32),\n",
       " array([0.03277515], dtype=float32),\n",
       " array([0.00815856], dtype=float32),\n",
       " array([-0.0128889], dtype=float32),\n",
       " array([-0.02855815], dtype=float32),\n",
       " array([-0.03961697], dtype=float32),\n",
       " array([-0.04591332], dtype=float32),\n",
       " array([-0.04448137], dtype=float32),\n",
       " array([-0.03897168], dtype=float32),\n",
       " array([-0.02670418], dtype=float32),\n",
       " array([-0.00968596], dtype=float32),\n",
       " array([0.0111876], dtype=float32),\n",
       " array([0.04010149], dtype=float32),\n",
       " array([0.07165314], dtype=float32),\n",
       " array([0.11013997], dtype=float32),\n",
       " array([0.15093678], dtype=float32),\n",
       " array([0.1927387], dtype=float32),\n",
       " array([0.24039534], dtype=float32),\n",
       " array([0.2861947], dtype=float32),\n",
       " array([0.3379898], dtype=float32),\n",
       " array([0.38874766], dtype=float32)]"
      ]
     },
     "execution_count": 35,
     "metadata": {},
     "output_type": "execute_result"
    }
   ],
   "source": [
    "test_pre"
   ]
  },
  {
   "cell_type": "code",
   "execution_count": 36,
   "id": "da392f69",
   "metadata": {},
   "outputs": [
    {
     "data": {
      "text/plain": [
       "array([[9.49551344e-01],\n",
       "       [9.69156618e-01],\n",
       "       [9.84074225e-01],\n",
       "       [9.94155114e-01],\n",
       "       [9.99298559e-01],\n",
       "       [9.99453170e-01],\n",
       "       [9.94617400e-01],\n",
       "       [9.84839568e-01],\n",
       "       [9.70217371e-01],\n",
       "       [9.50896908e-01],\n",
       "       [9.27071224e-01],\n",
       "       [8.98978376e-01],\n",
       "       [8.66899060e-01],\n",
       "       [8.31153800e-01],\n",
       "       [7.92099752e-01],\n",
       "       [7.50127132e-01],\n",
       "       [7.05655314e-01],\n",
       "       [6.59128649e-01],\n",
       "       [6.11012013e-01],\n",
       "       [5.61786173e-01],\n",
       "       [5.11942978e-01],\n",
       "       [4.61980443e-01],\n",
       "       [4.12397778e-01],\n",
       "       [3.63690397e-01],\n",
       "       [3.16344967e-01],\n",
       "       [2.70834550e-01],\n",
       "       [2.27613868e-01],\n",
       "       [1.87114770e-01],\n",
       "       [1.49741909e-01],\n",
       "       [1.15868702e-01],\n",
       "       [8.58335998e-02],\n",
       "       [5.99367021e-02],\n",
       "       [3.84367625e-02],\n",
       "       [2.15486014e-02],\n",
       "       [9.44095974e-03],\n",
       "       [2.23481297e-03],\n",
       "       [2.16257798e-06],\n",
       "       [2.76531647e-03],\n",
       "       [1.04966661e-02],\n",
       "       [2.31189624e-02],\n",
       "       [4.05060876e-02],\n",
       "       [6.24843152e-02],\n",
       "       [8.88340461e-02],\n",
       "       [1.19292002e-01],\n",
       "       [1.53553858e-01],\n",
       "       [1.91277281e-01],\n",
       "       [2.32085350e-01],\n",
       "       [2.75570325e-01],\n",
       "       [3.21297718e-01],\n",
       "       [3.68810636e-01]])"
      ]
     },
     "execution_count": 36,
     "metadata": {},
     "output_type": "execute_result"
    }
   ],
   "source": [
    "scaled_test"
   ]
  },
  {
   "cell_type": "code",
   "execution_count": 37,
   "id": "a3e4ca8b",
   "metadata": {},
   "outputs": [
    {
     "data": {
      "text/plain": [
       "array([[ 0.89179323],\n",
       "       [ 0.92949048],\n",
       "       [ 0.95752911],\n",
       "       [ 0.97752679],\n",
       "       [ 0.98695605],\n",
       "       [ 0.9834487 ],\n",
       "       [ 0.97093325],\n",
       "       [ 0.94842255],\n",
       "       [ 0.9179982 ],\n",
       "       [ 0.87888654],\n",
       "       [ 0.82736255],\n",
       "       [ 0.76594368],\n",
       "       [ 0.69466365],\n",
       "       [ 0.61789813],\n",
       "       [ 0.53679415],\n",
       "       [ 0.44910688],\n",
       "       [ 0.35678694],\n",
       "       [ 0.25786799],\n",
       "       [ 0.1573514 ],\n",
       "       [ 0.05621303],\n",
       "       [-0.04639698],\n",
       "       [-0.14868237],\n",
       "       [-0.25319554],\n",
       "       [-0.35655042],\n",
       "       [-0.45643371],\n",
       "       [-0.55214837],\n",
       "       [-0.64034883],\n",
       "       [-0.72505273],\n",
       "       [-0.80264555],\n",
       "       [-0.8725694 ],\n",
       "       [-0.93444043],\n",
       "       [-0.98367321],\n",
       "       [-1.02576781],\n",
       "       [-1.05710606],\n",
       "       [-1.07922352],\n",
       "       [-1.0918161 ],\n",
       "       [-1.08895223],\n",
       "       [-1.07793294],\n",
       "       [-1.05339814],\n",
       "       [-1.01936197],\n",
       "       [-0.97761518],\n",
       "       [-0.91978786],\n",
       "       [-0.85668507],\n",
       "       [-0.77971204],\n",
       "       [-0.69811906],\n",
       "       [-0.61451591],\n",
       "       [-0.51920339],\n",
       "       [-0.42760538],\n",
       "       [-0.32401602],\n",
       "       [-0.22250112]])"
      ]
     },
     "execution_count": 37,
     "metadata": {},
     "output_type": "execute_result"
    }
   ],
   "source": [
    "true_predictions = scaler.inverse_transform(test_pre)\n",
    "true_predictions"
   ]
  },
  {
   "cell_type": "markdown",
   "id": "cb4b0f57",
   "metadata": {},
   "source": [
    "# LET'S PLOT ALL THE PREDICTIONS"
   ]
  },
  {
   "cell_type": "code",
   "execution_count": 38,
   "id": "63cfb1a1",
   "metadata": {},
   "outputs": [
    {
     "name": "stderr",
     "output_type": "stream",
     "text": [
      "C:\\Users\\ulise\\AppData\\Local\\Temp/ipykernel_33232/3424149773.py:1: SettingWithCopyWarning: \n",
      "A value is trying to be set on a copy of a slice from a DataFrame.\n",
      "Try using .loc[row_indexer,col_indexer] = value instead\n",
      "\n",
      "See the caveats in the documentation: https://pandas.pydata.org/pandas-docs/stable/user_guide/indexing.html#returning-a-view-versus-a-copy\n",
      "  test[\"Predictions\"] = true_predictions\n"
     ]
    }
   ],
   "source": [
    "test[\"Predictions\"] = true_predictions"
   ]
  },
  {
   "cell_type": "code",
   "execution_count": 39,
   "id": "3207a14a",
   "metadata": {},
   "outputs": [
    {
     "data": {
      "text/plain": [
       "<AxesSubplot:>"
      ]
     },
     "execution_count": 39,
     "metadata": {},
     "output_type": "execute_result"
    },
    {
     "data": {
      "image/png": "[encoded data removed]",
      "text/plain": [
       "<Figure size 864x576 with 1 Axes>"
      ]
     },
     "metadata": {
      "needs_background": "light"
     },
     "output_type": "display_data"
    }
   ],
   "source": [
    "test.plot(figsize=(12,8))"
   ]
  },
  {
   "cell_type": "markdown",
   "id": "ee6d0707",
   "metadata": {},
   "source": [
    "We need to implement an Early Stopping to improve our model."
   ]
  },
  {
   "cell_type": "code",
   "execution_count": 42,
   "id": "4fcf0b94",
   "metadata": {},
   "outputs": [],
   "source": [
    "from tensorflow.keras.callbacks import EarlyStopping\n",
    "early_stop = EarlyStopping(monitor = \"val_loss\", patience = 2)"
   ]
  },
  {
   "cell_type": "code",
   "execution_count": 45,
   "id": "5b0a5cb0",
   "metadata": {},
   "outputs": [],
   "source": [
    "length = 49\n",
    "generator = TimeseriesGenerator(scaled_train, scaled_train, length= length, batch_size=1)"
   ]
  },
  {
   "cell_type": "code",
   "execution_count": 46,
   "id": "2c934d0e",
   "metadata": {},
   "outputs": [],
   "source": [
    "validation_generator = TimeseriesGenerator(scaled_test, scaled_test, length = length, batch_size=1)"
   ]
  },
  {
   "cell_type": "markdown",
   "id": "4007fee0",
   "metadata": {},
   "source": [
    "# CREATING AGAIN THE MODEL BUT WITH A DIFFERENT RECURRENT NEURAL NETWORK"
   ]
  },
  {
   "cell_type": "markdown",
   "id": "7f289d0e",
   "metadata": {},
   "source": [
    "Now these one is the same but with the LSTM model. LSTM is a type of recurrent neural network (RNN) that is commonly used for sequence prediction tasks, such as natural language processing and time series analysis. LSTM networks are designed to address the problem of vanishing gradients that can occur in traditional RNNs, which can make it difficult for the network to learn long-term dependencies in the input sequence."
   ]
  },
  {
   "cell_type": "code",
   "execution_count": 47,
   "id": "fd588026",
   "metadata": {},
   "outputs": [],
   "source": [
    "model = Sequential()\n",
    "\n",
    "model.add(LSTM(50, input_shape = (length, n_features)))\n",
    "\n",
    "model.add(Dense(1))\n",
    "\n",
    "model.compile(optimizer = \"adam\", loss = \"mse\")"
   ]
  },
  {
   "cell_type": "code",
   "execution_count": 52,
   "id": "f5467ef3",
   "metadata": {},
   "outputs": [
    {
     "name": "stdout",
     "output_type": "stream",
     "text": [
      "Epoch 1/20\n"
     ]
    },
    {
     "name": "stderr",
     "output_type": "stream",
     "text": [
      "C:\\Users\\ulise\\AppData\\Local\\Temp/ipykernel_33232/1624144228.py:1: UserWarning: `Model.fit_generator` is deprecated and will be removed in a future version. Please use `Model.fit`, which supports generators.\n",
      "  model.fit_generator(generator, epochs = 20, validation_data=validation_generator, callbacks=[early_stop])\n"
     ]
    },
    {
     "name": "stdout",
     "output_type": "stream",
     "text": [
      "402/402 [==============================] - 7s 13ms/step - loss: 0.0240 - val_loss: 1.6875e-04\n",
      "Epoch 2/20\n",
      "402/402 [==============================] - 6s 16ms/step - loss: 1.6057e-04 - val_loss: 1.6515e-07\n",
      "Epoch 3/20\n",
      "402/402 [==============================] - 7s 16ms/step - loss: 1.2262e-04 - val_loss: 6.3579e-05\n",
      "Epoch 4/20\n",
      "402/402 [==============================] - 6s 16ms/step - loss: 3.8678e-04 - val_loss: 3.2577e-05\n"
     ]
    },
    {
     "data": {
      "text/plain": [
       "<keras.callbacks.History at 0x1b672ea5640>"
      ]
     },
     "execution_count": 52,
     "metadata": {},
     "output_type": "execute_result"
    }
   ],
   "source": [
    "model.fit_generator(generator, epochs = 20, validation_data=validation_generator, callbacks=[early_stop])"
   ]
  },
  {
   "cell_type": "markdown",
   "id": "3fdef43d",
   "metadata": {},
   "source": [
    "Creating again the predictons."
   ]
  },
  {
   "cell_type": "code",
   "execution_count": 53,
   "id": "cf96c2b6",
   "metadata": {},
   "outputs": [
    {
     "name": "stdout",
     "output_type": "stream",
     "text": [
      "1/1 [==============================] - 0s 371ms/step\n",
      "1/1 [==============================] - 0s 23ms/step\n",
      "1/1 [==============================] - 0s 21ms/step\n",
      "1/1 [==============================] - 0s 21ms/step\n",
      "1/1 [==============================] - 0s 31ms/step\n",
      "1/1 [==============================] - 0s 29ms/step\n",
      "1/1 [==============================] - 0s 28ms/step\n",
      "1/1 [==============================] - 0s 26ms/step\n",
      "1/1 [==============================] - 0s 26ms/step\n",
      "1/1 [==============================] - 0s 24ms/step\n",
      "1/1 [==============================] - 0s 22ms/step\n",
      "1/1 [==============================] - 0s 24ms/step\n",
      "1/1 [==============================] - 0s 25ms/step\n",
      "1/1 [==============================] - 0s 25ms/step\n",
      "1/1 [==============================] - 0s 22ms/step\n",
      "1/1 [==============================] - 0s 21ms/step\n",
      "1/1 [==============================] - 0s 24ms/step\n",
      "1/1 [==============================] - 0s 22ms/step\n",
      "1/1 [==============================] - 0s 27ms/step\n",
      "1/1 [==============================] - 0s 21ms/step\n",
      "1/1 [==============================] - 0s 21ms/step\n",
      "1/1 [==============================] - 0s 24ms/step\n",
      "1/1 [==============================] - 0s 22ms/step\n",
      "1/1 [==============================] - 0s 31ms/step\n",
      "1/1 [==============================] - 0s 29ms/step\n",
      "1/1 [==============================] - 0s 24ms/step\n",
      "1/1 [==============================] - 0s 23ms/step\n",
      "1/1 [==============================] - 0s 22ms/step\n",
      "1/1 [==============================] - 0s 21ms/step\n",
      "1/1 [==============================] - 0s 21ms/step\n",
      "1/1 [==============================] - 0s 20ms/step\n",
      "1/1 [==============================] - 0s 27ms/step\n",
      "1/1 [==============================] - 0s 31ms/step\n",
      "1/1 [==============================] - 0s 23ms/step\n",
      "1/1 [==============================] - 0s 20ms/step\n",
      "1/1 [==============================] - 0s 21ms/step\n",
      "1/1 [==============================] - 0s 27ms/step\n",
      "1/1 [==============================] - 0s 26ms/step\n",
      "1/1 [==============================] - 0s 28ms/step\n",
      "1/1 [==============================] - 0s 23ms/step\n",
      "1/1 [==============================] - 0s 20ms/step\n",
      "1/1 [==============================] - 0s 24ms/step\n",
      "1/1 [==============================] - 0s 21ms/step\n",
      "1/1 [==============================] - 0s 21ms/step\n",
      "1/1 [==============================] - 0s 21ms/step\n",
      "1/1 [==============================] - 0s 22ms/step\n",
      "1/1 [==============================] - 0s 21ms/step\n",
      "1/1 [==============================] - 0s 27ms/step\n",
      "1/1 [==============================] - 0s 23ms/step\n",
      "1/1 [==============================] - 0s 27ms/step\n"
     ]
    }
   ],
   "source": [
    "test_pre = []\n",
    "\n",
    "first_eval_batch = scaled_train[-length:]\n",
    "current_batch = first_eval_batch.reshape((1, length, n_features))\n",
    "\n",
    "for i in range(len(test)):\n",
    "    current_pred = model.predict(current_batch)[0]\n",
    "    test_pre.append(current_pred)\n",
    "    current_batch = np.append(current_batch[:,1:,:], [[current_pred]], axis = 1)"
   ]
  },
  {
   "cell_type": "code",
   "execution_count": 58,
   "id": "88892074",
   "metadata": {},
   "outputs": [
    {
     "name": "stderr",
     "output_type": "stream",
     "text": [
      "C:\\Users\\ulise\\AppData\\Local\\Temp/ipykernel_33232/167926812.py:2: SettingWithCopyWarning: \n",
      "A value is trying to be set on a copy of a slice from a DataFrame.\n",
      "Try using .loc[row_indexer,col_indexer] = value instead\n",
      "\n",
      "See the caveats in the documentation: https://pandas.pydata.org/pandas-docs/stable/user_guide/indexing.html#returning-a-view-versus-a-copy\n",
      "  test[\"LSTM Predictions\"] = true_predictions\n"
     ]
    }
   ],
   "source": [
    "true_predictions = scaler.inverse_transform(test_pre)\n",
    "test[\"LSTM Predictions\"] = true_predictions"
   ]
  },
  {
   "cell_type": "code",
   "execution_count": 64,
   "id": "dc83d141",
   "metadata": {},
   "outputs": [
    {
     "data": {
      "text/plain": [
       "<AxesSubplot:>"
      ]
     },
     "execution_count": 64,
     "metadata": {},
     "output_type": "execute_result"
    },
    {
     "data": {
      "image/png": "[encoded data removed]",
      "text/plain": [
       "<Figure size 864x576 with 1 Axes>"
      ]
     },
     "metadata": {
      "needs_background": "light"
     },
     "output_type": "display_data"
    }
   ],
   "source": [
    "test.plot(figsize=(12,8))"
   ]
  },
  {
   "cell_type": "code",
   "execution_count": 66,
   "id": "13077cba",
   "metadata": {},
   "outputs": [],
   "source": [
    "full_scaler = MinMaxScaler()\n",
    "scaled_full_data = full_scaler.fit_transform(df)"
   ]
  },
  {
   "cell_type": "code",
   "execution_count": 70,
   "id": "5d4a2fd1",
   "metadata": {},
   "outputs": [],
   "source": [
    "generator = TimeseriesGenerator(scaled_full_data, scaled_full_data, length = length, batch_size = 1)"
   ]
  },
  {
   "cell_type": "code",
   "execution_count": 71,
   "id": "efb623c9",
   "metadata": {},
   "outputs": [],
   "source": [
    "model = Sequential()\n",
    "\n",
    "model.add(LSTM(50, input_shape = (length, n_features)))\n",
    "\n",
    "model.add(Dense(1))\n",
    "\n",
    "model.compile(optimizer = \"adam\", loss = \"mse\")"
   ]
  },
  {
   "cell_type": "code",
   "execution_count": 73,
   "id": "1591edef",
   "metadata": {},
   "outputs": [
    {
     "name": "stdout",
     "output_type": "stream",
     "text": [
      "Epoch 1/6\n"
     ]
    },
    {
     "name": "stderr",
     "output_type": "stream",
     "text": [
      "C:\\Users\\ulise\\AppData\\Local\\Temp/ipykernel_33232/3666391922.py:1: UserWarning: `Model.fit_generator` is deprecated and will be removed in a future version. Please use `Model.fit`, which supports generators.\n",
      "  model.fit_generator(generator, epochs = 6)\n"
     ]
    },
    {
     "name": "stdout",
     "output_type": "stream",
     "text": [
      "452/452 [==============================] - 10s 18ms/step - loss: 0.0106\n",
      "Epoch 2/6\n",
      "452/452 [==============================] - 6s 14ms/step - loss: 1.9323e-04\n",
      "Epoch 3/6\n",
      "452/452 [==============================] - 6s 14ms/step - loss: 9.6775e-04\n",
      "Epoch 4/6\n",
      "452/452 [==============================] - 7s 16ms/step - loss: 9.0169e-05\n",
      "Epoch 5/6\n",
      "452/452 [==============================] - 9s 20ms/step - loss: 2.8613e-05\n",
      "Epoch 6/6\n",
      "452/452 [==============================] - 10s 23ms/step - loss: 6.1053e-05\n"
     ]
    },
    {
     "data": {
      "text/plain": [
       "<keras.callbacks.History at 0x1b678539a90>"
      ]
     },
     "execution_count": 73,
     "metadata": {},
     "output_type": "execute_result"
    }
   ],
   "source": [
    "model.fit_generator(generator, epochs = 6)"
   ]
  },
  {
   "cell_type": "markdown",
   "id": "78e045c2",
   "metadata": {},
   "source": [
    "# MAKING PREDICTIONS"
   ]
  },
  {
   "cell_type": "code",
   "execution_count": 74,
   "id": "eb95c275",
   "metadata": {},
   "outputs": [
    {
     "name": "stdout",
     "output_type": "stream",
     "text": [
      "1/1 [==============================] - 0s 353ms/step\n",
      "1/1 [==============================] - 0s 23ms/step\n",
      "1/1 [==============================] - 0s 22ms/step\n",
      "1/1 [==============================] - 0s 22ms/step\n",
      "1/1 [==============================] - 0s 21ms/step\n",
      "1/1 [==============================] - 0s 24ms/step\n",
      "1/1 [==============================] - 0s 27ms/step\n",
      "1/1 [==============================] - 0s 35ms/step\n",
      "1/1 [==============================] - 0s 112ms/step\n",
      "1/1 [==============================] - 0s 25ms/step\n",
      "1/1 [==============================] - 0s 21ms/step\n",
      "1/1 [==============================] - 0s 31ms/step\n",
      "1/1 [==============================] - 0s 26ms/step\n",
      "1/1 [==============================] - 0s 29ms/step\n",
      "1/1 [==============================] - 0s 26ms/step\n",
      "1/1 [==============================] - 0s 21ms/step\n",
      "1/1 [==============================] - 0s 22ms/step\n",
      "1/1 [==============================] - 0s 22ms/step\n",
      "1/1 [==============================] - 0s 23ms/step\n",
      "1/1 [==============================] - 0s 22ms/step\n",
      "1/1 [==============================] - 0s 27ms/step\n",
      "1/1 [==============================] - 0s 21ms/step\n",
      "1/1 [==============================] - 0s 22ms/step\n",
      "1/1 [==============================] - 0s 23ms/step\n",
      "1/1 [==============================] - 0s 21ms/step\n"
     ]
    }
   ],
   "source": [
    "forecast = []\n",
    "\n",
    "first_eval_batch = scaled_train[-length:]\n",
    "current_batch = first_eval_batch.reshape((1, length, n_features))\n",
    "\n",
    "for i in range(25):\n",
    "    current_pred = model.predict(current_batch)[0]\n",
    "    forecast.append(current_pred)\n",
    "    current_batch = np.append(current_batch[:,1:,:], [[current_pred]], axis = 1)"
   ]
  },
  {
   "cell_type": "code",
   "execution_count": 75,
   "id": "9cc6ec79",
   "metadata": {},
   "outputs": [],
   "source": [
    "forecast = scaler.inverse_transform(forecast)"
   ]
  },
  {
   "cell_type": "code",
   "execution_count": 77,
   "id": "1242e3a2",
   "metadata": {},
   "outputs": [
    {
     "data": {
      "text/plain": [
       "array([[ 0.90450405],\n",
       "       [ 0.94322125],\n",
       "       [ 0.97242729],\n",
       "       [ 0.99183584],\n",
       "       [ 1.0012533 ],\n",
       "       [ 1.00061935],\n",
       "       [ 0.98999538],\n",
       "       [ 0.96955556],\n",
       "       [ 0.93957288],\n",
       "       [ 0.90040734],\n",
       "       [ 0.85249513],\n",
       "       [ 0.79633692],\n",
       "       [ 0.73249096],\n",
       "       [ 0.6615651 ],\n",
       "       [ 0.5842126 ],\n",
       "       [ 0.50112928],\n",
       "       [ 0.41305077],\n",
       "       [ 0.32075217],\n",
       "       [ 0.22504898],\n",
       "       [ 0.12679425],\n",
       "       [ 0.02687979],\n",
       "       [-0.07376679],\n",
       "       [-0.17418455],\n",
       "       [-0.27338353],\n",
       "       [-0.37035379]])"
      ]
     },
     "execution_count": 77,
     "metadata": {},
     "output_type": "execute_result"
    }
   ],
   "source": [
    "forecast"
   ]
  },
  {
   "cell_type": "code",
   "execution_count": 78,
   "id": "0d6901d6",
   "metadata": {},
   "outputs": [],
   "source": [
    "forecast_index=np.arange(50.1,52.6, step=0.1)"
   ]
  },
  {
   "cell_type": "code",
   "execution_count": 81,
   "id": "f061f14d",
   "metadata": {},
   "outputs": [
    {
     "name": "stdout",
     "output_type": "stream",
     "text": [
      "25\n",
      "25\n"
     ]
    }
   ],
   "source": [
    "print(len(forecast_index))\n",
    "print(len(forecast))"
   ]
  },
  {
   "cell_type": "markdown",
   "id": "63a3476e",
   "metadata": {},
   "source": [
    "# RESULTS"
   ]
  },
  {
   "cell_type": "markdown",
   "id": "bb3c4865",
   "metadata": {},
   "source": [
    "This is the forecast of this math function. There is not way to get numerical metrics will that time happend. But we can see that has the same shape."
   ]
  },
  {
   "cell_type": "code",
   "execution_count": 82,
   "id": "c6cbbe97",
   "metadata": {},
   "outputs": [
    {
     "data": {
      "text/plain": [
       "[<matplotlib.lines.Line2D at 0x1b67c4270a0>]"
      ]
     },
     "execution_count": 82,
     "metadata": {},
     "output_type": "execute_result"
    },
    {
     "data": {
      "image/png": "[encoded data removed]",
      "text/plain": [
       "<Figure size 432x288 with 1 Axes>"
      ]
     },
     "metadata": {
      "needs_background": "light"
     },
     "output_type": "display_data"
    }
   ],
   "source": [
    "plt.plot(df.index,df[\"Sine\"])\n",
    "plt.plot(forecast_index, forecast)"
   ]
  }
 ],
 "metadata": {
  "kernelspec": {
   "display_name": "Python 3 (ipykernel)",
   "language": "python",
   "name": "python3"
  },
  "language_info": {
   "codemirror_mode": {
    "name": "ipython",
    "version": 3
   },
   "file_extension": ".py",
   "mimetype": "text/x-python",
   "name": "python",
   "nbconvert_exporter": "python",
   "pygments_lexer": "ipython3",
   "version": "3.9.7"
  }
 },
 "nbformat": 4,
 "nbformat_minor": 5
}
