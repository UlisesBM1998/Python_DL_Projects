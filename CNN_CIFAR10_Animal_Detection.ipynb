{
 "cells": [
  {
   "cell_type": "markdown",
   "id": "c44c8fd9",
   "metadata": {},
   "source": [
    "# REASON"
   ]
  },
  {
   "cell_type": "markdown",
   "id": "dc54e80b",
   "metadata": {},
   "source": [
    "By this dataset of animals, we will figure out if we can predict animals by images."
   ]
  },
  {
   "cell_type": "markdown",
   "id": "2616a69f",
   "metadata": {},
   "source": [
    "# IMPORTING LIBRARIES AND DATASET"
   ]
  },
  {
   "cell_type": "code",
   "execution_count": 1,
   "id": "0390c212",
   "metadata": {},
   "outputs": [],
   "source": [
    "import pandas as pd\n",
    "import numpy as np\n",
    "import matplotlib.pyplot as plt\n",
    "import seaborn as sns\n",
    "%matplotlib inline"
   ]
  },
  {
   "cell_type": "code",
   "execution_count": 2,
   "id": "dbc7374d",
   "metadata": {},
   "outputs": [],
   "source": [
    "from tensorflow.keras.datasets import cifar10"
   ]
  },
  {
   "cell_type": "code",
   "execution_count": 3,
   "id": "fa8b9f83",
   "metadata": {},
   "outputs": [],
   "source": [
    "(x_train, y_train), (x_test, y_test) = cifar10.load_data()"
   ]
  },
  {
   "cell_type": "code",
   "execution_count": 4,
   "id": "577e19bc",
   "metadata": {},
   "outputs": [
    {
     "data": {
      "text/plain": [
       "(50000, 32, 32, 3)"
      ]
     },
     "execution_count": 4,
     "metadata": {},
     "output_type": "execute_result"
    }
   ],
   "source": [
    "x_train.shape"
   ]
  },
  {
   "cell_type": "code",
   "execution_count": 5,
   "id": "fd6fd257",
   "metadata": {},
   "outputs": [
    {
     "data": {
      "text/plain": [
       "array([[[ 59,  62,  63],\n",
       "        [ 43,  46,  45],\n",
       "        [ 50,  48,  43],\n",
       "        ...,\n",
       "        [158, 132, 108],\n",
       "        [152, 125, 102],\n",
       "        [148, 124, 103]],\n",
       "\n",
       "       [[ 16,  20,  20],\n",
       "        [  0,   0,   0],\n",
       "        [ 18,   8,   0],\n",
       "        ...,\n",
       "        [123,  88,  55],\n",
       "        [119,  83,  50],\n",
       "        [122,  87,  57]],\n",
       "\n",
       "       [[ 25,  24,  21],\n",
       "        [ 16,   7,   0],\n",
       "        [ 49,  27,   8],\n",
       "        ...,\n",
       "        [118,  84,  50],\n",
       "        [120,  84,  50],\n",
       "        [109,  73,  42]],\n",
       "\n",
       "       ...,\n",
       "\n",
       "       [[208, 170,  96],\n",
       "        [201, 153,  34],\n",
       "        [198, 161,  26],\n",
       "        ...,\n",
       "        [160, 133,  70],\n",
       "        [ 56,  31,   7],\n",
       "        [ 53,  34,  20]],\n",
       "\n",
       "       [[180, 139,  96],\n",
       "        [173, 123,  42],\n",
       "        [186, 144,  30],\n",
       "        ...,\n",
       "        [184, 148,  94],\n",
       "        [ 97,  62,  34],\n",
       "        [ 83,  53,  34]],\n",
       "\n",
       "       [[177, 144, 116],\n",
       "        [168, 129,  94],\n",
       "        [179, 142,  87],\n",
       "        ...,\n",
       "        [216, 184, 140],\n",
       "        [151, 118,  84],\n",
       "        [123,  92,  72]]], dtype=uint8)"
      ]
     },
     "execution_count": 5,
     "metadata": {},
     "output_type": "execute_result"
    }
   ],
   "source": [
    "x_train[0]"
   ]
  },
  {
   "cell_type": "code",
   "execution_count": 6,
   "id": "47edcfa3",
   "metadata": {},
   "outputs": [
    {
     "data": {
      "text/plain": [
       "<matplotlib.image.AxesImage at 0x197f5c14f70>"
      ]
     },
     "execution_count": 6,
     "metadata": {},
     "output_type": "execute_result"
    },
    {
     "data": {
      "image/png": "[encoded data removed]",
      "text/plain": [
       "<Figure size 432x288 with 1 Axes>"
      ]
     },
     "metadata": {
      "needs_background": "light"
     },
     "output_type": "display_data"
    }
   ],
   "source": [
    "plt.imshow(x_train[12])"
   ]
  },
  {
   "cell_type": "code",
   "execution_count": 7,
   "id": "8ab8611b",
   "metadata": {},
   "outputs": [
    {
     "data": {
      "text/plain": [
       "251"
      ]
     },
     "execution_count": 7,
     "metadata": {},
     "output_type": "execute_result"
    }
   ],
   "source": [
    "x_train[12].max()"
   ]
  },
  {
   "cell_type": "markdown",
   "id": "74f71b09",
   "metadata": {},
   "source": [
    "We are going to transform the number into smallers, keeping the difference of numbers but now the machine will work easier with them."
   ]
  },
  {
   "cell_type": "code",
   "execution_count": 8,
   "id": "e9e404e5",
   "metadata": {},
   "outputs": [],
   "source": [
    "x_train = x_train/255"
   ]
  },
  {
   "cell_type": "code",
   "execution_count": 9,
   "id": "bf03478a",
   "metadata": {},
   "outputs": [],
   "source": [
    "x_test =  x_test/255"
   ]
  },
  {
   "cell_type": "code",
   "execution_count": 10,
   "id": "09bbf56f",
   "metadata": {},
   "outputs": [
    {
     "data": {
      "text/plain": [
       "(10000, 32, 32, 3)"
      ]
     },
     "execution_count": 10,
     "metadata": {},
     "output_type": "execute_result"
    }
   ],
   "source": [
    "x_test.shape"
   ]
  },
  {
   "cell_type": "markdown",
   "id": "0d24138e",
   "metadata": {},
   "source": [
    "# BEFORE TRAINING THE MODEL"
   ]
  },
  {
   "cell_type": "markdown",
   "id": "98018cb5",
   "metadata": {},
   "source": [
    "Before to start we need to change the values of our dataset, we can do this by using categorical values.\n",
    "\n",
    "The to_categorical function takes a vector of class labels as input, and returns a matrix where each row corresponds to a sample, and each column corresponds to a class. The matrix is filled with binary values, where a value of 1 indicates that the corresponding sample belongs to the corresponding class, and a value of 0 indicates that it does not."
   ]
  },
  {
   "cell_type": "markdown",
   "id": "a9167533",
   "metadata": {},
   "source": [
    "from tensorflow.keras.utils import to_categorical"
   ]
  },
  {
   "cell_type": "code",
   "execution_count": 12,
   "id": "d10245b0",
   "metadata": {},
   "outputs": [],
   "source": [
    "y_cat_train = to_categorical(y_train,10)"
   ]
  },
  {
   "cell_type": "code",
   "execution_count": 13,
   "id": "8b8a85c1",
   "metadata": {},
   "outputs": [],
   "source": [
    "y_cat_test = to_categorical(y_test,10)"
   ]
  },
  {
   "cell_type": "code",
   "execution_count": 14,
   "id": "81828244",
   "metadata": {},
   "outputs": [
    {
     "data": {
      "text/plain": [
       "array([3], dtype=uint8)"
      ]
     },
     "execution_count": 14,
     "metadata": {},
     "output_type": "execute_result"
    }
   ],
   "source": [
    "y_test[0]"
   ]
  },
  {
   "cell_type": "markdown",
   "id": "33770ae7",
   "metadata": {},
   "source": [
    "# CREATING THE MODEL"
   ]
  },
  {
   "cell_type": "markdown",
   "id": "7a3d0326",
   "metadata": {},
   "source": [
    "If you would like to create a model to predict images, you will need more features and patterns because it is more difficult."
   ]
  },
  {
   "cell_type": "code",
   "execution_count": 15,
   "id": "ea458f65",
   "metadata": {},
   "outputs": [],
   "source": [
    "from tensorflow.keras.models import Sequential\n",
    "from tensorflow.keras.layers import Dense, Conv2D, MaxPool2D, Flatten"
   ]
  },
  {
   "cell_type": "code",
   "execution_count": 16,
   "id": "cc813f98",
   "metadata": {},
   "outputs": [],
   "source": [
    "model = Sequential()\n",
    "\n",
    "model.add(Conv2D(filters=32, kernel_size=(4,4), input_shape=(32,32,3), activation = \"relu\"))\n",
    "model.add(MaxPool2D(pool_size=(2,2)))\n",
    "\n",
    "model.add(Conv2D(filters=32, kernel_size=(4,4), input_shape=(32,32,3), activation = \"relu\"))\n",
    "model.add(MaxPool2D(pool_size=(2,2)))\n",
    "\n",
    "model.add(Flatten())\n",
    "\n",
    "model.add(Dense(256, activation = \"relu\"))\n",
    "\n",
    "model.add(Dense(10, activation = \"softmax\"))\n",
    "\n",
    "model.compile(loss=\"categorical_crossentropy\", optimizer = \"adam\", metrics = [\"accuracy\"])"
   ]
  },
  {
   "cell_type": "code",
   "execution_count": 17,
   "id": "c1836987",
   "metadata": {},
   "outputs": [
    {
     "name": "stdout",
     "output_type": "stream",
     "text": [
      "Model: \"sequential\"\n",
      "_________________________________________________________________\n",
      " Layer (type)                Output Shape              Param #   \n",
      "=================================================================\n",
      " conv2d (Conv2D)             (None, 29, 29, 32)        1568      \n",
      "                                                                 \n",
      " max_pooling2d (MaxPooling2D  (None, 14, 14, 32)       0         \n",
      " )                                                               \n",
      "                                                                 \n",
      " conv2d_1 (Conv2D)           (None, 11, 11, 32)        16416     \n",
      "                                                                 \n",
      " max_pooling2d_1 (MaxPooling  (None, 5, 5, 32)         0         \n",
      " 2D)                                                             \n",
      "                                                                 \n",
      " flatten (Flatten)           (None, 800)               0         \n",
      "                                                                 \n",
      " dense (Dense)               (None, 256)               205056    \n",
      "                                                                 \n",
      " dense_1 (Dense)             (None, 10)                2570      \n",
      "                                                                 \n",
      "=================================================================\n",
      "Total params: 225,610\n",
      "Trainable params: 225,610\n",
      "Non-trainable params: 0\n",
      "_________________________________________________________________\n"
     ]
    }
   ],
   "source": [
    "model.summary()"
   ]
  },
  {
   "cell_type": "markdown",
   "id": "0b9dd9fc",
   "metadata": {},
   "source": [
    "Let's add an Early Stopping to break when the model is on its higher performance."
   ]
  },
  {
   "cell_type": "code",
   "execution_count": 18,
   "id": "36a16ede",
   "metadata": {},
   "outputs": [],
   "source": [
    "from tensorflow.keras.callbacks import EarlyStopping"
   ]
  },
  {
   "cell_type": "code",
   "execution_count": 19,
   "id": "5fcd9fbd",
   "metadata": {},
   "outputs": [],
   "source": [
    "early_stop = EarlyStopping(monitor = \"val_loss\", patience = 2)"
   ]
  },
  {
   "cell_type": "markdown",
   "id": "99b02ab9",
   "metadata": {},
   "source": [
    "# TRAINING THE MODEL"
   ]
  },
  {
   "cell_type": "code",
   "execution_count": 20,
   "id": "ec86b3ba",
   "metadata": {},
   "outputs": [
    {
     "name": "stdout",
     "output_type": "stream",
     "text": [
      "Epoch 1/15\n",
      "1563/1563 [==============================] - 119s 73ms/step - loss: 1.4936 - accuracy: 0.4597 - val_loss: 1.2944 - val_accuracy: 0.5450\n",
      "Epoch 2/15\n",
      "1563/1563 [==============================] - 106s 68ms/step - loss: 1.1595 - accuracy: 0.5913 - val_loss: 1.0850 - val_accuracy: 0.6208\n",
      "Epoch 3/15\n",
      "1563/1563 [==============================] - 94s 60ms/step - loss: 1.0052 - accuracy: 0.6509 - val_loss: 1.0842 - val_accuracy: 0.6244\n",
      "Epoch 4/15\n",
      "1563/1563 [==============================] - 92s 59ms/step - loss: 0.9035 - accuracy: 0.6854 - val_loss: 0.9959 - val_accuracy: 0.6589\n",
      "Epoch 5/15\n",
      "1563/1563 [==============================] - 134s 86ms/step - loss: 0.8170 - accuracy: 0.7153 - val_loss: 0.9457 - val_accuracy: 0.6742\n",
      "Epoch 6/15\n",
      "1563/1563 [==============================] - 89s 57ms/step - loss: 0.7390 - accuracy: 0.7442 - val_loss: 0.9609 - val_accuracy: 0.6747\n",
      "Epoch 7/15\n",
      "1563/1563 [==============================] - 121s 78ms/step - loss: 0.6704 - accuracy: 0.7667 - val_loss: 0.9463 - val_accuracy: 0.6844\n"
     ]
    },
    {
     "data": {
      "text/plain": [
       "<keras.callbacks.History at 0x197f5fb2dc0>"
      ]
     },
     "execution_count": 20,
     "metadata": {},
     "output_type": "execute_result"
    }
   ],
   "source": [
    "model.fit(x_train, y_cat_train, epochs = 15, validation_data = (x_test, y_cat_test), callbacks = [early_stop])"
   ]
  },
  {
   "cell_type": "markdown",
   "id": "cb125c59",
   "metadata": {},
   "source": [
    "Getting the results and plot them to see how efficient it is."
   ]
  },
  {
   "cell_type": "code",
   "execution_count": 21,
   "id": "b071b47c",
   "metadata": {},
   "outputs": [
    {
     "data": {
      "text/plain": [
       "Index(['loss', 'accuracy', 'val_loss', 'val_accuracy'], dtype='object')"
      ]
     },
     "execution_count": 21,
     "metadata": {},
     "output_type": "execute_result"
    }
   ],
   "source": [
    "metrics = pd.DataFrame(model.history.history)\n",
    "metrics.columns"
   ]
  },
  {
   "cell_type": "code",
   "execution_count": 22,
   "id": "ce03954f",
   "metadata": {},
   "outputs": [
    {
     "data": {
      "text/plain": [
       "<AxesSubplot:>"
      ]
     },
     "execution_count": 22,
     "metadata": {},
     "output_type": "execute_result"
    },
    {
     "data": {
      "image/png": "[encoded data removed]",
      "text/plain": [
       "<Figure size 432x288 with 1 Axes>"
      ]
     },
     "metadata": {
      "needs_background": "light"
     },
     "output_type": "display_data"
    }
   ],
   "source": [
    "metrics[['accuracy', 'val_accuracy']].plot()"
   ]
  },
  {
   "cell_type": "code",
   "execution_count": 23,
   "id": "1c25e7c6",
   "metadata": {},
   "outputs": [
    {
     "data": {
      "text/plain": [
       "<AxesSubplot:>"
      ]
     },
     "execution_count": 23,
     "metadata": {},
     "output_type": "execute_result"
    },
    {
     "data": {
      "image/png": "[encoded data removed]",
      "text/plain": [
       "<Figure size 432x288 with 1 Axes>"
      ]
     },
     "metadata": {
      "needs_background": "light"
     },
     "output_type": "display_data"
    }
   ],
   "source": [
    "metrics[[\"loss\", \"val_loss\"]].plot()"
   ]
  },
  {
   "cell_type": "code",
   "execution_count": 24,
   "id": "1ab488bf",
   "metadata": {},
   "outputs": [
    {
     "data": {
      "text/plain": [
       "[0.946321964263916, 0.6844000220298767]"
      ]
     },
     "execution_count": 24,
     "metadata": {},
     "output_type": "execute_result"
    }
   ],
   "source": [
    "model.evaluate(x_test, y_cat_test, verbose = 0)"
   ]
  },
  {
   "cell_type": "markdown",
   "id": "97def166",
   "metadata": {},
   "source": [
    "# FINALS RESULTS"
   ]
  },
  {
   "cell_type": "markdown",
   "id": "c6e33f05",
   "metadata": {},
   "source": [
    "We got an accuracy of 68%. it looks a bad number but for images detection is a decent number. We can improve it but it will take more machine power."
   ]
  },
  {
   "cell_type": "code",
   "execution_count": 25,
   "id": "2ebbd22e",
   "metadata": {},
   "outputs": [],
   "source": [
    "from sklearn.metrics import classification_report, confusion_matrix"
   ]
  },
  {
   "cell_type": "code",
   "execution_count": 26,
   "id": "69bcf3bc",
   "metadata": {},
   "outputs": [
    {
     "name": "stdout",
     "output_type": "stream",
     "text": [
      "313/313 [==============================] - 8s 20ms/step\n"
     ]
    }
   ],
   "source": [
    "pre =  model.predict(x_test).argmax(axis=-1)"
   ]
  },
  {
   "cell_type": "code",
   "execution_count": 27,
   "id": "d3bb75f5",
   "metadata": {},
   "outputs": [
    {
     "name": "stdout",
     "output_type": "stream",
     "text": [
      "              precision    recall  f1-score   support\n",
      "\n",
      "           0       0.69      0.77      0.73      1000\n",
      "           1       0.79      0.82      0.80      1000\n",
      "           2       0.63      0.53      0.57      1000\n",
      "           3       0.52      0.46      0.49      1000\n",
      "           4       0.64      0.59      0.62      1000\n",
      "           5       0.55      0.65      0.60      1000\n",
      "           6       0.74      0.77      0.75      1000\n",
      "           7       0.73      0.75      0.74      1000\n",
      "           8       0.82      0.73      0.77      1000\n",
      "           9       0.73      0.78      0.75      1000\n",
      "\n",
      "    accuracy                           0.68     10000\n",
      "   macro avg       0.68      0.68      0.68     10000\n",
      "weighted avg       0.68      0.68      0.68     10000\n",
      "\n",
      "*********************\n",
      "[[772  25  42  21  19   9   6  19  47  40]\n",
      " [ 32 819   4   7   2   3  11   9  20  93]\n",
      " [ 80  12 527  53  71 104  75  36  16  26]\n",
      " [ 22  12  58 455  83 212  59  52  21  26]\n",
      " [ 27   6  81  74 594  77  49  68  15   9]\n",
      " [ 19   7  47 139  32 650  33  55   7  11]\n",
      " [  5  13  35  61  41  47 767  12   7  12]\n",
      " [ 16   4  22  34  72  65   8 754   1  24]\n",
      " [121  55  10   9   5   9   8  11 727  45]\n",
      " [ 32  88  10  19   7   7  16  20  22 779]]\n"
     ]
    }
   ],
   "source": [
    "print(classification_report(y_test, pre))\n",
    "print(\"*********************\")\n",
    "print(confusion_matrix(y_test, pre ))"
   ]
  },
  {
   "cell_type": "code",
   "execution_count": 28,
   "id": "54a1ba40",
   "metadata": {},
   "outputs": [
    {
     "data": {
      "text/plain": [
       "<AxesSubplot:>"
      ]
     },
     "execution_count": 28,
     "metadata": {},
     "output_type": "execute_result"
    },
    {
     "data": {
      "image/png": "[encoded data removed]",
      "text/plain": [
       "<Figure size 864x432 with 2 Axes>"
      ]
     },
     "metadata": {
      "needs_background": "light"
     },
     "output_type": "display_data"
    }
   ],
   "source": [
    "plt.figure(figsize=(12,6))\n",
    "sns.heatmap(confusion_matrix(y_test, pre ), annot = True)"
   ]
  },
  {
   "cell_type": "markdown",
   "id": "5d7145b0",
   "metadata": {},
   "source": [
    "# TESTING"
   ]
  },
  {
   "cell_type": "markdown",
   "id": "8871c89e",
   "metadata": {},
   "source": [
    "We pick the fifteenth image, which is a boat."
   ]
  },
  {
   "cell_type": "code",
   "execution_count": 29,
   "id": "a4c430ab",
   "metadata": {},
   "outputs": [
    {
     "data": {
      "text/plain": [
       "<matplotlib.image.AxesImage at 0x19836724af0>"
      ]
     },
     "execution_count": 29,
     "metadata": {},
     "output_type": "execute_result"
    },
    {
     "data": {
      "image/png": "[encoded data removed]",
      "text/plain": [
       "<Figure size 432x288 with 1 Axes>"
      ]
     },
     "metadata": {
      "needs_background": "light"
     },
     "output_type": "display_data"
    }
   ],
   "source": [
    "my_image = x_test[15]\n",
    "plt.imshow(my_image)"
   ]
  },
  {
   "cell_type": "code",
   "execution_count": 30,
   "id": "c6e8dedf",
   "metadata": {},
   "outputs": [
    {
     "data": {
      "text/plain": [
       "array([8], dtype=uint8)"
      ]
     },
     "execution_count": 30,
     "metadata": {},
     "output_type": "execute_result"
    }
   ],
   "source": [
    "y_test[15] #8 is boat"
   ]
  },
  {
   "cell_type": "code",
   "execution_count": 36,
   "id": "4ef29ddd",
   "metadata": {},
   "outputs": [
    {
     "data": {
      "text/plain": [
       "(32, 32, 3)"
      ]
     },
     "execution_count": 36,
     "metadata": {},
     "output_type": "execute_result"
    }
   ],
   "source": [
    "x_test[15].shape"
   ]
  },
  {
   "cell_type": "markdown",
   "id": "4111745b",
   "metadata": {},
   "source": [
    "And according to the true value and the prediction. Both agree that the image is a boat."
   ]
  },
  {
   "cell_type": "code",
   "execution_count": 40,
   "id": "92c4680e",
   "metadata": {},
   "outputs": [
    {
     "name": "stdout",
     "output_type": "stream",
     "text": [
      "1/1 [==============================] - 0s 141ms/step\n",
      "[8]\n",
      "[8]\n"
     ]
    }
   ],
   "source": [
    "pre_prob = model.predict(my_image.reshape(1,32,32,3))\n",
    "predictions = np.argmax(pre_prob, axis=1)\n",
    "print(predictions)\n",
    "print(y_test[15])"
   ]
  }
 ],
 "metadata": {
  "kernelspec": {
   "display_name": "Python 3 (ipykernel)",
   "language": "python",
   "name": "python3"
  },
  "language_info": {
   "codemirror_mode": {
    "name": "ipython",
    "version": 3
   },
   "file_extension": ".py",
   "mimetype": "text/x-python",
   "name": "python",
   "nbconvert_exporter": "python",
   "pygments_lexer": "ipython3",
   "version": "3.9.7"
  }
 },
 "nbformat": 4,
 "nbformat_minor": 5
}
