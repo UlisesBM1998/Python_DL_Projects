{
 "cells": [
  {
   "cell_type": "markdown",
   "id": "c98b1263",
   "metadata": {},
   "source": [
    "# REASON"
   ]
  },
  {
   "cell_type": "markdown",
   "id": "9245dd32",
   "metadata": {},
   "source": [
    "With a Convolutional Neural Network techique, we are going to find out if we can predict pieces of clothes by images."
   ]
  },
  {
   "cell_type": "markdown",
   "id": "f7096340",
   "metadata": {},
   "source": [
    "# IMPORTING LIBRARIES AND DATASET STORED ON TENSORSLOW"
   ]
  },
  {
   "cell_type": "code",
   "execution_count": 1,
   "id": "4fce4340",
   "metadata": {},
   "outputs": [],
   "source": [
    "import numpy as np\n",
    "import pandas as pd\n",
    "import matplotlib.pyplot as plt\n",
    "import seaborn as sns\n",
    "%matplotlib inline"
   ]
  },
  {
   "cell_type": "code",
   "execution_count": 2,
   "id": "f4efbe40",
   "metadata": {},
   "outputs": [],
   "source": [
    "from tensorflow.keras.datasets import fashion_mnist"
   ]
  },
  {
   "cell_type": "code",
   "execution_count": 3,
   "id": "661dc816",
   "metadata": {},
   "outputs": [],
   "source": [
    "(x_train, y_train), (x_test, y_test) = fashion_mnist.load_data()"
   ]
  },
  {
   "cell_type": "code",
   "execution_count": 4,
   "id": "76f1a0b9",
   "metadata": {},
   "outputs": [
    {
     "data": {
      "text/plain": [
       "(60000, 28, 28)"
      ]
     },
     "execution_count": 4,
     "metadata": {},
     "output_type": "execute_result"
    }
   ],
   "source": [
    "x_train.shape"
   ]
  },
  {
   "cell_type": "markdown",
   "id": "c55461ff",
   "metadata": {},
   "source": [
    "Watching the photo number 25 "
   ]
  },
  {
   "cell_type": "code",
   "execution_count": 5,
   "id": "4b99f04c",
   "metadata": {},
   "outputs": [
    {
     "data": {
      "text/plain": [
       "<matplotlib.image.AxesImage at 0x1d9bd416340>"
      ]
     },
     "execution_count": 5,
     "metadata": {},
     "output_type": "execute_result"
    },
    {
     "data": {
      "image/png": "[encoded data removed]",
      "text/plain": [
       "<Figure size 432x288 with 1 Axes>"
      ]
     },
     "metadata": {
      "needs_background": "light"
     },
     "output_type": "display_data"
    }
   ],
   "source": [
    "plt.imshow(x_train[25])"
   ]
  },
  {
   "cell_type": "markdown",
   "id": "d93a213b",
   "metadata": {},
   "source": [
    "# FORMATING THE VALUES"
   ]
  },
  {
   "cell_type": "markdown",
   "id": "70174dda",
   "metadata": {},
   "source": [
    "Machines works better with low numbers so let make them slower but keeping the difference between."
   ]
  },
  {
   "cell_type": "code",
   "execution_count": 6,
   "id": "3f5790d9",
   "metadata": {},
   "outputs": [
    {
     "data": {
      "text/plain": [
       "255"
      ]
     },
     "execution_count": 6,
     "metadata": {},
     "output_type": "execute_result"
    }
   ],
   "source": [
    "x_train.max()"
   ]
  },
  {
   "cell_type": "code",
   "execution_count": 7,
   "id": "d09efbc8",
   "metadata": {},
   "outputs": [],
   "source": [
    "x_train = x_train/255\n",
    "x_test = x_test/255"
   ]
  },
  {
   "cell_type": "markdown",
   "id": "a46079b7",
   "metadata": {},
   "source": [
    "And then we need to change their shape due to needs of the DL model."
   ]
  },
  {
   "cell_type": "code",
   "execution_count": 8,
   "id": "f8bde291",
   "metadata": {},
   "outputs": [],
   "source": [
    "x_train = x_train.reshape(60000,28,28,1)\n",
    "x_test = x_test.reshape(10000,28,28,1)"
   ]
  },
  {
   "cell_type": "markdown",
   "id": "f0d157a9",
   "metadata": {},
   "source": [
    "# PRE PROCESSING"
   ]
  },
  {
   "cell_type": "markdown",
   "id": "95485e42",
   "metadata": {},
   "source": [
    "Before to start we need to change the values of our dataset, we can do this by using categorical values.\n",
    "\n",
    "The to_categorical function takes a vector of class labels as input, and returns a matrix where each row corresponds to a sample, and each column corresponds to a class. The matrix is filled with binary values, where a value of 1 indicates that the corresponding sample belongs to the corresponding class, and a value of 0 indicates that it does not."
   ]
  },
  {
   "cell_type": "code",
   "execution_count": 9,
   "id": "d0ac881e",
   "metadata": {},
   "outputs": [],
   "source": [
    "from tensorflow.keras.utils import to_categorical"
   ]
  },
  {
   "cell_type": "code",
   "execution_count": 10,
   "id": "3141c0f5",
   "metadata": {},
   "outputs": [],
   "source": [
    "y_cat_train = to_categorical(y_train, 10)\n",
    "y_cat_test = to_categorical(y_test, 10)"
   ]
  },
  {
   "cell_type": "markdown",
   "id": "c3fe7599",
   "metadata": {},
   "source": [
    "# CREATING THE MODEL"
   ]
  },
  {
   "cell_type": "markdown",
   "id": "b0dc767e",
   "metadata": {},
   "source": [
    "For this model we will use three hidden layers with Rectified Linear Unit and the softmax. ReLU is used to introduce non-linearity into the output of a neural network, while softmax is used in the output layer of a neural network for multi-class classification tasks.\n",
    "\n",
    "We also need to use the Flatten feature. Flattening is a process of converting a multidimensional array, such as an image or a feature map, into a one-dimensional array. This operation is commonly used in deep learning neural networks to transform the input data into a form that can be fed into the fully connected layers of the network.\n",
    "\n",
    "And at the end, a compile layer with the accuracy metric for evalution propose."
   ]
  },
  {
   "cell_type": "code",
   "execution_count": 11,
   "id": "8e7a37c7",
   "metadata": {},
   "outputs": [],
   "source": [
    "from tensorflow.keras import Sequential\n",
    "from tensorflow.keras.layers import Dense, Conv2D, MaxPool2D, Flatten"
   ]
  },
  {
   "cell_type": "code",
   "execution_count": 12,
   "id": "25366e3a",
   "metadata": {},
   "outputs": [],
   "source": [
    "model = Sequential()\n",
    "\n",
    "model.add(Conv2D(filters = 32, kernel_size = (4,4), input_shape=(28,28,1), activation = \"relu\"))\n",
    "model.add(MaxPool2D(pool_size=(2,2)))\n",
    "\n",
    "model.add(Flatten())\n",
    "\n",
    "model.add(Dense(128, activation = \"relu\"))\n",
    "\n",
    "model.add(Dense(10, activation = \"softmax\"))\n",
    "\n",
    "model.compile(loss = \"categorical_crossentropy\", optimizer = \"adam\", metrics = [\"accuracy\"])"
   ]
  },
  {
   "cell_type": "code",
   "execution_count": 13,
   "id": "23f09c3d",
   "metadata": {},
   "outputs": [
    {
     "name": "stdout",
     "output_type": "stream",
     "text": [
      "Model: \"sequential\"\n",
      "_________________________________________________________________\n",
      " Layer (type)                Output Shape              Param #   \n",
      "=================================================================\n",
      " conv2d (Conv2D)             (None, 25, 25, 32)        544       \n",
      "                                                                 \n",
      " max_pooling2d (MaxPooling2D  (None, 12, 12, 32)       0         \n",
      " )                                                               \n",
      "                                                                 \n",
      " flatten (Flatten)           (None, 4608)              0         \n",
      "                                                                 \n",
      " dense (Dense)               (None, 128)               589952    \n",
      "                                                                 \n",
      " dense_1 (Dense)             (None, 10)                1290      \n",
      "                                                                 \n",
      "=================================================================\n",
      "Total params: 591,786\n",
      "Trainable params: 591,786\n",
      "Non-trainable params: 0\n",
      "_________________________________________________________________\n"
     ]
    }
   ],
   "source": [
    "model.summary()"
   ]
  },
  {
   "cell_type": "markdown",
   "id": "dcf0f397",
   "metadata": {},
   "source": [
    "# TRAINING THE MODEL"
   ]
  },
  {
   "cell_type": "code",
   "execution_count": 14,
   "id": "2813f52f",
   "metadata": {},
   "outputs": [
    {
     "name": "stdout",
     "output_type": "stream",
     "text": [
      "Epoch 1/3\n",
      "1875/1875 [==============================] - 67s 35ms/step - loss: 0.3932 - accuracy: 0.8587 - val_loss: 0.3204 - val_accuracy: 0.8796\n",
      "Epoch 2/3\n",
      "1875/1875 [==============================] - 53s 28ms/step - loss: 0.2721 - accuracy: 0.9010 - val_loss: 0.2911 - val_accuracy: 0.8915\n",
      "Epoch 3/3\n",
      "1875/1875 [==============================] - 51s 27ms/step - loss: 0.2284 - accuracy: 0.9150 - val_loss: 0.2635 - val_accuracy: 0.9050\n"
     ]
    },
    {
     "data": {
      "text/plain": [
       "<keras.callbacks.History at 0x1d9ba2ffb80>"
      ]
     },
     "execution_count": 14,
     "metadata": {},
     "output_type": "execute_result"
    }
   ],
   "source": [
    "model.fit(x_train, y_cat_train, validation_data=(x_test, y_cat_test), epochs = 3)"
   ]
  },
  {
   "cell_type": "markdown",
   "id": "d209ebf5",
   "metadata": {},
   "source": [
    "Now we have the metrics of the model. Let's watch them."
   ]
  },
  {
   "cell_type": "code",
   "execution_count": 15,
   "id": "8e03ab86",
   "metadata": {},
   "outputs": [
    {
     "data": {
      "text/plain": [
       "['loss', 'accuracy']"
      ]
     },
     "execution_count": 15,
     "metadata": {},
     "output_type": "execute_result"
    }
   ],
   "source": [
    "model.metrics_names"
   ]
  },
  {
   "cell_type": "code",
   "execution_count": 16,
   "id": "9b2ce7c8",
   "metadata": {},
   "outputs": [],
   "source": [
    "metrics = pd.DataFrame(model.history.history)"
   ]
  },
  {
   "cell_type": "code",
   "execution_count": 17,
   "id": "69db4ab2",
   "metadata": {},
   "outputs": [
    {
     "data": {
      "text/plain": [
       "<AxesSubplot:>"
      ]
     },
     "execution_count": 17,
     "metadata": {},
     "output_type": "execute_result"
    },
    {
     "data": {
      "image/png": "[encoded data removed]",
      "text/plain": [
       "<Figure size 432x288 with 1 Axes>"
      ]
     },
     "metadata": {
      "needs_background": "light"
     },
     "output_type": "display_data"
    }
   ],
   "source": [
    "metrics[[\"loss\", \"val_loss\"]].plot()"
   ]
  },
  {
   "cell_type": "code",
   "execution_count": 18,
   "id": "0da42d91",
   "metadata": {},
   "outputs": [
    {
     "data": {
      "text/plain": [
       "<AxesSubplot:>"
      ]
     },
     "execution_count": 18,
     "metadata": {},
     "output_type": "execute_result"
    },
    {
     "data": {
      "image/png": "[encoded data removed]",
      "text/plain": [
       "<Figure size 432x288 with 1 Axes>"
      ]
     },
     "metadata": {
      "needs_background": "light"
     },
     "output_type": "display_data"
    }
   ],
   "source": [
    "metrics[[\"accuracy\", \"val_accuracy\"]].plot()"
   ]
  },
  {
   "cell_type": "markdown",
   "id": "4ccc2ec4",
   "metadata": {},
   "source": [
    "# RESULTS"
   ]
  },
  {
   "cell_type": "markdown",
   "id": "f05d25e9",
   "metadata": {},
   "source": [
    "By creating predicts depending on our test data set and them compare them by the rue values. We got a result of 91% of accuracy. On in another words, the DL model will indentify 9 out of 10, if a clothe is a pant, shirt, coat, ect."
   ]
  },
  {
   "cell_type": "code",
   "execution_count": 19,
   "id": "7874849f",
   "metadata": {},
   "outputs": [],
   "source": [
    "from sklearn.metrics import classification_report, confusion_matrix"
   ]
  },
  {
   "cell_type": "code",
   "execution_count": 25,
   "id": "0120a383",
   "metadata": {},
   "outputs": [
    {
     "name": "stdout",
     "output_type": "stream",
     "text": [
      "313/313 [==============================] - 3s 8ms/step\n"
     ]
    }
   ],
   "source": [
    "pre =  model.predict(x_test).argmax(axis=-1)"
   ]
  },
  {
   "cell_type": "code",
   "execution_count": 26,
   "id": "17a121be",
   "metadata": {},
   "outputs": [
    {
     "name": "stdout",
     "output_type": "stream",
     "text": [
      "              precision    recall  f1-score   support\n",
      "\n",
      "           0       0.84      0.88      0.86      1000\n",
      "           1       0.97      0.98      0.98      1000\n",
      "           2       0.86      0.83      0.85      1000\n",
      "           3       0.88      0.93      0.90      1000\n",
      "           4       0.85      0.84      0.84      1000\n",
      "           5       0.98      0.98      0.98      1000\n",
      "           6       0.77      0.70      0.73      1000\n",
      "           7       0.96      0.95      0.96      1000\n",
      "           8       0.97      0.98      0.98      1000\n",
      "           9       0.96      0.97      0.96      1000\n",
      "\n",
      "    accuracy                           0.91     10000\n",
      "   macro avg       0.90      0.90      0.90     10000\n",
      "weighted avg       0.90      0.91      0.90     10000\n",
      "\n"
     ]
    }
   ],
   "source": [
    "print(classification_report(y_test, pre))"
   ]
  }
 ],
 "metadata": {
  "kernelspec": {
   "display_name": "Python 3 (ipykernel)",
   "language": "python",
   "name": "python3"
  },
  "language_info": {
   "codemirror_mode": {
    "name": "ipython",
    "version": 3
   },
   "file_extension": ".py",
   "mimetype": "text/x-python",
   "name": "python",
   "nbconvert_exporter": "python",
   "pygments_lexer": "ipython3",
   "version": "3.9.7"
  }
 },
 "nbformat": 4,
 "nbformat_minor": 5
}
